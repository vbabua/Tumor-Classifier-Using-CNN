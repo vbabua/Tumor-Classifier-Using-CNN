{
  "cells": [
    {
      "cell_type": "code",
      "execution_count": 1,
      "metadata": {
        "colab": {
          "base_uri": "https://localhost:8080/"
        },
        "id": "w6WVtox_EnOe",
        "outputId": "81d47b2c-bd7b-4343-a87c-a0fc0ac472d8"
      },
      "outputs": [
        {
          "output_type": "stream",
          "name": "stdout",
          "text": [
            "Mounted at /content/drive\n"
          ]
        }
      ],
      "source": [
        "from google.colab import drive\n",
        "drive.mount('/content/drive')"
      ]
    },
    {
      "cell_type": "code",
      "execution_count": 2,
      "metadata": {
        "id": "vNgJAviOLiZD"
      },
      "outputs": [],
      "source": [
        "import os\n",
        "import pandas as pd\n",
        "import matplotlib.pyplot as plt\n",
        "import seaborn as sns\n",
        "import torch\n",
        "import torch.nn as nn\n",
        "import torch.nn.functional as F\n",
        "\n",
        "from PIL import Image\n",
        "from torch.utils.data import DataLoader\n",
        "from torch.utils.data import Dataset\n",
        "from torchvision import transforms\n",
        "from sklearn.model_selection import StratifiedShuffleSplit\n",
        "from sklearn.metrics import f1_score"
      ]
    },
    {
      "cell_type": "code",
      "execution_count": 3,
      "metadata": {
        "id": "Vx36XuGuP30X"
      },
      "outputs": [],
      "source": [
        "image_data_path = '/content/drive/MyDrive/PreciousMD/STAN_patches_segs/patches'\n",
        "labels_csv_path = '/content/drive/MyDrive/PreciousMD/STAN_patches_segs/labels/STAN_labels.csv'\n"
      ]
    },
    {
      "cell_type": "code",
      "execution_count": 4,
      "metadata": {
        "colab": {
          "base_uri": "https://localhost:8080/"
        },
        "id": "aMgfWZfIP_xA",
        "outputId": "031cecdd-c3c3-4a24-d501-670732c0ef40"
      },
      "outputs": [
        {
          "output_type": "stream",
          "name": "stdout",
          "text": [
            "        UID  MUT_STATUS\n",
            "0  SUB_0367           1\n",
            "1  SUB_0368           0\n",
            "2  SUB_0369           0\n",
            "3  SUB_0370           0\n",
            "4  SUB_0371           0\n"
          ]
        }
      ],
      "source": [
        "labels_df = pd.read_csv(labels_csv_path)\n",
        "print(labels_df.head())  # Display the first few rows of the labels dataframe\n"
      ]
    },
    {
      "cell_type": "code",
      "execution_count": 5,
      "metadata": {
        "colab": {
          "base_uri": "https://localhost:8080/"
        },
        "id": "mSVb6loXVufg",
        "outputId": "253ada44-9efd-4888-dc84-a222b9d708d6"
      },
      "outputs": [
        {
          "output_type": "stream",
          "name": "stdout",
          "text": [
            "Total patients: 116\n"
          ]
        }
      ],
      "source": [
        "# List of patient IDs\n",
        "patient_ids = os.listdir(image_data_path)\n",
        "print(f\"Total patients: {len(patient_ids)}\")"
      ]
    },
    {
      "cell_type": "markdown",
      "metadata": {
        "id": "i7kfgPBAZDtc"
      },
      "source": [
        "## Ensure all patients in image folders have corresponding labels in the CSV file"
      ]
    },
    {
      "cell_type": "code",
      "execution_count": 6,
      "metadata": {
        "colab": {
          "base_uri": "https://localhost:8080/"
        },
        "id": "mFbemAfiSVfz",
        "outputId": "e52aa669-c717-4e07-b57c-cd42ae100f8e"
      },
      "outputs": [
        {
          "output_type": "stream",
          "name": "stdout",
          "text": [
            "All patients in folders have corresponding labels in the CSV file.\n",
            "Patients present in CSV but missing in folders: {'SUB_0380'}\n"
          ]
        }
      ],
      "source": [
        "# Get patient IDs from image folders\n",
        "patient_ids_from_folders = set(os.listdir(image_data_path))\n",
        "\n",
        "# Get patient IDs from the CSV file\n",
        "patient_ids_from_csv = set(labels_df['UID'])\n",
        "\n",
        "# Find patients in folders but not in CSV\n",
        "missing_in_csv = patient_ids_from_folders - patient_ids_from_csv\n",
        "if missing_in_csv:\n",
        "    print(f\"Patients present in folders but missing in CSV: {missing_in_csv}\")\n",
        "else:\n",
        "    print(\"All patients in folders have corresponding labels in the CSV file.\")\n",
        "\n",
        "# Find patients in CSV but not in folders\n",
        "missing_in_folders = patient_ids_from_csv - patient_ids_from_folders\n",
        "if missing_in_folders:\n",
        "    print(f\"Patients present in CSV but missing in folders: {missing_in_folders}\")\n",
        "else:\n",
        "    print(\"All patients in the CSV file have corresponding folders.\")\n"
      ]
    },
    {
      "cell_type": "code",
      "execution_count": 7,
      "metadata": {
        "colab": {
          "base_uri": "https://localhost:8080/"
        },
        "id": "6BWyFbjZZKyT",
        "outputId": "19ae33b0-df4a-448c-df37-f1c6e4ab683b"
      },
      "outputs": [
        {
          "output_type": "stream",
          "name": "stdout",
          "text": [
            "No duplicate patient IDs in the CSV file.\n",
            "No duplicate folders detected.\n"
          ]
        }
      ],
      "source": [
        "# Check for duplicates in the CSV file\n",
        "duplicate_patients_in_csv = labels_df[labels_df['UID'].duplicated()]['UID']\n",
        "if not duplicate_patients_in_csv.empty:\n",
        "    print(f\"Duplicate patient IDs in CSV: {duplicate_patients_in_csv.to_list()}\")\n",
        "else:\n",
        "    print(\"No duplicate patient IDs in the CSV file.\")\n",
        "\n",
        "# Check for duplicate folders (this is unlikely since operating systems usually don't allow duplicate folder names, but it's good to double-check)\n",
        "if len(patient_ids_from_folders) != len(os.listdir(image_data_path)):\n",
        "    print(\"There might be duplicate folders. Please check manually.\")\n",
        "else:\n",
        "    print(\"No duplicate folders detected.\")\n"
      ]
    },
    {
      "cell_type": "markdown",
      "metadata": {
        "id": "pAOSuaxEZ-Uw"
      },
      "source": [
        "Given the results:\n",
        "\n",
        "All patients in folders have corresponding labels in the CSV file:\n",
        "This ensures that there won't be any \"unlabeled\" data issues when you proceed with training or validation. It means that every image you use will have an associated label.\n",
        "Patients present in CSV but missing in folders: {'SUB_0380'}:\n",
        "This indicates that while you have a label for patient SUB_0380, you do not have their image data. This discrepancy needs to be addressed before training.\n",
        "Next Steps:\n",
        "\n",
        "Address Missing Data: You need to decide how to address the missing image data for patient SUB_0380. Here are a few strategies:\n",
        "a. Data Retrieval: If the missing data can be retrieved, locate the source of your dataset and check if the images for SUB_0380 were mistakenly excluded or misplaced.\n",
        "b. Remove from CSV: If you can't retrieve the missing image data, it's best to remove the entry for SUB_0380 from the CSV file. This ensures consistency between your labels and data."
      ]
    },
    {
      "cell_type": "code",
      "execution_count": 8,
      "metadata": {
        "id": "KX8OAX6scoVd"
      },
      "outputs": [],
      "source": [
        "# Remove the SUB_0380 entry from the DataFrame\n",
        "labels_df = labels_df[labels_df['UID'] != 'SUB_0380']\n",
        "\n",
        "\n",
        "# Update the list of patient IDs to ensure it doesn't contain SUB_0380 and only includes IDs from the CSV that exist in the directory.\n",
        "patient_ids = [pid for pid in os.listdir(image_data_path) if pid in labels_df['UID'].values]\n"
      ]
    },
    {
      "cell_type": "code",
      "execution_count": 9,
      "metadata": {
        "colab": {
          "base_uri": "https://localhost:8080/",
          "height": 592
        },
        "id": "-iLhRGHSQBPT",
        "outputId": "96b8eb34-ea39-41ed-f640-ccb2e5070d9f"
      },
      "outputs": [
        {
          "output_type": "stream",
          "name": "stdout",
          "text": [
            "0    93\n",
            "1    23\n",
            "Name: MUT_STATUS, dtype: int64\n",
            "0    80.172414\n",
            "1    19.827586\n",
            "Name: MUT_STATUS, dtype: float64\n"
          ]
        },
        {
          "output_type": "display_data",
          "data": {
            "text/plain": [
              "<Figure size 640x480 with 1 Axes>"
            ],
            "image/png": "[encoded data removed]"
          },
          "metadata": {}
        }
      ],
      "source": [
        "# Check the distribution of labels\n",
        "label_distribution = labels_df['MUT_STATUS'].value_counts()\n",
        "print(label_distribution)\n",
        "\n",
        "# Get the distribution in percentages\n",
        "label_distribution_percent = labels_df['MUT_STATUS'].value_counts(normalize=True) * 100\n",
        "print(label_distribution_percent)\n",
        "\n",
        "# Visualizing the distribution of labels along with counts\n",
        "sns.countplot(x='MUT_STATUS', data=labels_df).set_title('Distribution of Labels')\n",
        "for i, count in enumerate(label_distribution):\n",
        "    plt.text(i, count, f'{count} ({label_distribution_percent.iloc[i]:.2f}%)', ha='center', va='baseline')\n",
        "plt.show()"
      ]
    },
    {
      "cell_type": "code",
      "execution_count": 10,
      "metadata": {
        "colab": {
          "base_uri": "https://localhost:8080/"
        },
        "id": "ylnqA13_STVf",
        "outputId": "62aaebdf-2517-40ff-b147-57a740ca02c9"
      },
      "outputs": [
        {
          "output_type": "stream",
          "name": "stdout",
          "text": [
            "{(61, 61), (43, 43), (52, 52), (70, 70), (29, 29), (38, 38), (37, 37), (80, 80), (42, 42), (66, 66), (48, 48), (34, 34), (53, 53), (30, 30), (76, 76), (71, 71), (62, 62), (25, 25), (35, 35), (26, 26), (44, 44), (99, 99), (49, 49), (40, 40), (31, 31), (95, 95), (27, 27), (68, 68), (63, 63), (36, 36), (45, 45), (54, 54), (102, 102), (105, 105), (32, 32), (64, 64), (55, 55), (41, 41), (51, 51), (60, 60), (87, 87), (69, 69), (23, 23), (46, 46), (24, 24), (106, 106), (47, 47), (28, 28), (92, 92), (83, 83), (79, 79), (120, 120), (33, 33)}\n"
          ]
        }
      ],
      "source": [
        "# Quick script to get unique image sizes across all patients\n",
        "unique_image_sizes = set()\n",
        "for patient_id in labels_df['UID']:\n",
        "    patient_folder = os.path.join(image_data_path, patient_id)\n",
        "    for img_name in os.listdir(patient_folder):\n",
        "        img_path = os.path.join(patient_folder, img_name)\n",
        "        img = Image.open(img_path)\n",
        "        unique_image_sizes.add(img.size)\n",
        "print(unique_image_sizes)\n"
      ]
    },
    {
      "cell_type": "markdown",
      "metadata": {
        "id": "t6ODnWaJf5w2"
      },
      "source": [
        "# Creating PyTorch Dataset"
      ]
    },
    {
      "cell_type": "code",
      "execution_count": 11,
      "metadata": {
        "id": "KekbxLUzgrpL"
      },
      "outputs": [],
      "source": [
        "# Defining a custom dataset for the tumor images\n",
        "class TumorDataset(Dataset):\n",
        "\n",
        "  # Initialisation method for the dataset\n",
        "  def __init__(self, image_data_path, labels_df, num_patches_per_patient=5):\n",
        "    self.image_data_path = image_data_path\n",
        "    self.labels_df = labels_df\n",
        "    self.num_patches_per_patient = num_patches_per_patient\n",
        "    self.max_size = (64, 64)\n",
        "    self.patient_ids = sorted([pid for pid in os.listdir(image_data_path) if pid in labels_df['UID'].values])\n",
        "    self.file_paths = {pid: sorted(os.listdir(os.path.join(image_data_path, pid)))[:self.num_patches_per_patient] for pid in self.patient_ids}\n",
        "\n",
        "    # Applying image transformations on the patches\n",
        "    self.base_transform = transforms.Compose([\n",
        "      transforms.Resize(self.max_size),\n",
        "      transforms.ToTensor(),\n",
        "      transforms.Normalize(mean=[0.5], std=[0.5]),\n",
        "      transforms.RandomHorizontalFlip(),\n",
        "      transforms.RandomRotation(degrees=10)\n",
        "        ])\n",
        "\n",
        "\n",
        "  def __len__(self):\n",
        "    return len(self.patient_ids)\n",
        "\n",
        "  # Method to fetch data for a specific index\n",
        "  def __getitem__(self, idx):\n",
        "        # Fetching patient ID for the given index\n",
        "        pid = self.patient_ids[idx]\n",
        "\n",
        "        # Loading image patches for the selected patient ID\n",
        "        patches = [Image.open(os.path.join(self.image_data_path, pid, patch_path)) for patch_path in self.file_paths[pid]]\n",
        "\n",
        "        # List to store transformed patches\n",
        "        transformed_patches = []\n",
        "        for patch in patches:\n",
        "            # Calculating padding required to make the image of max_size\n",
        "            pad_transform = transforms.Pad(\n",
        "                (0, 0, self.max_size[0] - patch.size[1], self.max_size[1] - patch.size[0]), fill=0\n",
        "            )\n",
        "\n",
        "            # Applying the padding and other transformations to the image patch\n",
        "            transform = transforms.Compose([pad_transform, self.base_transform])\n",
        "            transformed_patches.append(transform(patch))\n",
        "\n",
        "        # Combining all patches into a single tensor\n",
        "        images = torch.stack(transformed_patches)\n",
        "\n",
        "        # Fetching the label for the patient ID\n",
        "        label_row = self.labels_df[self.labels_df['UID'] == pid]\n",
        "        label = torch.tensor(label_row['MUT_STATUS'].values[0], dtype=torch.long)\n",
        "\n",
        "        return images, label\n"
      ]
    },
    {
      "cell_type": "code",
      "execution_count": 12,
      "metadata": {
        "id": "8QYO0AyXn-7d",
        "colab": {
          "base_uri": "https://localhost:8080/"
        },
        "outputId": "a7ae2682-42b4-490c-a03a-12d9abd19c20"
      },
      "outputs": [
        {
          "output_type": "stream",
          "name": "stdout",
          "text": [
            "116\n"
          ]
        }
      ],
      "source": [
        "dataset = TumorDataset(image_data_path, labels_df)\n",
        "print(len(dataset))"
      ]
    },
    {
      "cell_type": "code",
      "execution_count": 13,
      "metadata": {
        "colab": {
          "base_uri": "https://localhost:8080/"
        },
        "id": "5ccNIBL9zIZn",
        "outputId": "d4859a71-a764-4d83-8d3a-4199b7c788c6"
      },
      "outputs": [
        {
          "output_type": "stream",
          "name": "stdout",
          "text": [
            "Patient 0:\n",
            "Number of Patches: 5\n",
            "Image Shape: torch.Size([1, 64, 64])\n",
            "Label: 1\n",
            "\n",
            "Patient 1:\n",
            "Number of Patches: 5\n",
            "Image Shape: torch.Size([1, 64, 64])\n",
            "Label: 0\n",
            "\n",
            "Patient 2:\n",
            "Number of Patches: 5\n",
            "Image Shape: torch.Size([1, 64, 64])\n",
            "Label: 0\n",
            "\n",
            "Patient 3:\n",
            "Number of Patches: 5\n",
            "Image Shape: torch.Size([1, 64, 64])\n",
            "Label: 0\n",
            "\n",
            "Patient 4:\n",
            "Number of Patches: 5\n",
            "Image Shape: torch.Size([1, 64, 64])\n",
            "Label: 0\n",
            "\n"
          ]
        }
      ],
      "source": [
        "# Looping through the first 5 entries of the dataset to inspect it\n",
        "for i in range(5):\n",
        "    images, label = dataset[i]\n",
        "    print(f\"Patient {i}:\")\n",
        "    print(f\"Number of Patches: {images.shape[0]}\")\n",
        "    print(f\"Image Shape: {images[0].shape}\")\n",
        "    print(f\"Label: {label}\\n\")"
      ]
    },
    {
      "cell_type": "code",
      "execution_count": 14,
      "metadata": {
        "colab": {
          "base_uri": "https://localhost:8080/",
          "height": 196
        },
        "id": "jKXZ5Tj9VJ4n",
        "outputId": "c10cf190-cbb2-4eca-e0de-b8c75f30cf3a"
      },
      "outputs": [
        {
          "output_type": "display_data",
          "data": {
            "text/plain": [
              "<Figure size 2000x500 with 5 Axes>"
            ],
            "image/png": "[encoded data removed]"
          },
          "metadata": {}
        }
      ],
      "source": [
        "import matplotlib.pyplot as plt\n",
        "\n",
        "def show_patches(patches, title=\"\"):\n",
        "    fig, axs = plt.subplots(1, len(patches), figsize=(20, 5))\n",
        "    for i, patch in enumerate(patches):\n",
        "        axs[i].imshow(patch[0], cmap='gray')  # Assuming single channel images\n",
        "        axs[i].axis('off')\n",
        "    plt.suptitle(title)\n",
        "    plt.show()\n",
        "\n",
        "# Displaying patches for a patient\n",
        "patches, label = dataset[10]\n",
        "show_patches(patches, title=f\"Label: {label}\")\n"
      ]
    },
    {
      "cell_type": "markdown",
      "metadata": {
        "id": "qws9oV1vkV6u"
      },
      "source": [
        "# Data Splitting"
      ]
    },
    {
      "cell_type": "code",
      "execution_count": 15,
      "metadata": {
        "id": "Vys0BqW0N3m_"
      },
      "outputs": [],
      "source": [
        "# Patient IDs and corresponding labels\n",
        "X = patient_ids\n",
        "y = labels_df['MUT_STATUS']\n",
        "\n",
        "# Initial split parameters to segregate data into training and testing sets\n",
        "n_splits = 1\n",
        "test_size_initial = 0.2\n",
        "\n",
        "# Stratified shuffle split for ensuring balanced classes in both train and test sets\n",
        "sss_initial = StratifiedShuffleSplit(n_splits=n_splits, test_size=test_size_initial, random_state=42)\n",
        "\n",
        "# Splitting the data into initial training and test sets\n",
        "for train_index_initial, test_index in sss_initial.split(X, y):\n",
        "    train_patient_ids_initial = [X[i] for i in train_index_initial]\n",
        "    test_patient_ids = [X[i] for i in test_index]\n",
        "    X_train_initial = labels_df[labels_df['UID'].isin(train_patient_ids_initial)]\n",
        "    X_test = labels_df[labels_df['UID'].isin(test_patient_ids)]\n",
        "    y_train_initial = X_train_initial['MUT_STATUS']\n",
        "    y_test = X_test['MUT_STATUS']\n",
        "\n",
        "# Parameters to further split the initial training data into final training and validation sets\n",
        "n_splits = 1\n",
        "validation_size = 0.1\n",
        "\n",
        "# Stratified shuffle split for the second time to obtain validation data from the initial training set\n",
        "sss_final = StratifiedShuffleSplit(n_splits=n_splits, test_size=validation_size, random_state=42)\n",
        "\n",
        "# Splitting the initial training set into final training and validation sets\n",
        "for train_index_final, validation_index in sss_final.split(X_train_initial, y_train_initial):\n",
        "    train_patient_ids_final = [train_patient_ids_initial[i] for i in train_index_final]\n",
        "    validation_patient_ids = [train_patient_ids_initial[i] for i in validation_index]\n",
        "    X_train = labels_df[labels_df['UID'].isin(train_patient_ids_final)]\n",
        "    X_val = labels_df[labels_df['UID'].isin(validation_patient_ids)]\n",
        "    y_train = X_train['MUT_STATUS']\n",
        "    y_val = X_val['MUT_STATUS']\n",
        "\n"
      ]
    },
    {
      "cell_type": "code",
      "execution_count": 16,
      "metadata": {
        "colab": {
          "base_uri": "https://localhost:8080/"
        },
        "id": "p1WyL-7GOFtX",
        "outputId": "71e937ab-34c5-48ac-dc05-a26f9b7f5471"
      },
      "outputs": [
        {
          "output_type": "stream",
          "name": "stdout",
          "text": [
            "Original Class Distribution:\n",
            "0    0.801724\n",
            "1    0.198276\n",
            "Name: MUT_STATUS, dtype: float64\n",
            "Training Class Distribution:\n",
            "0    0.804878\n",
            "1    0.195122\n",
            "Name: MUT_STATUS, dtype: float64\n",
            "Validation Class Distribution:\n",
            "0    0.8\n",
            "1    0.2\n",
            "Name: MUT_STATUS, dtype: float64\n",
            "Test Class Distribution:\n",
            "0    0.791667\n",
            "1    0.208333\n",
            "Name: MUT_STATUS, dtype: float64\n",
            "No data leakage. Sets are mutually exclusive.\n",
            "Training set shape: (82, 2)\n",
            "Validation set shape: (10, 2)\n",
            "Test set shape: (24, 2)\n"
          ]
        }
      ],
      "source": [
        "# Checking class distribution\n",
        "original_class_distribution = labels_df['MUT_STATUS'].value_counts(normalize=True)\n",
        "train_class_distribution = y_train.value_counts(normalize=True)\n",
        "val_class_distribution = y_val.value_counts(normalize=True)\n",
        "test_class_distribution = y_test.value_counts(normalize=True)\n",
        "\n",
        "print(\"Original Class Distribution:\")\n",
        "print(original_class_distribution)\n",
        "\n",
        "print(\"Training Class Distribution:\")\n",
        "print(train_class_distribution)\n",
        "\n",
        "print(\"Validation Class Distribution:\")\n",
        "print(val_class_distribution)\n",
        "\n",
        "print(\"Test Class Distribution:\")\n",
        "print(test_class_distribution)\n",
        "\n",
        "# Checking for patient overlap\n",
        "train_patients = set(train_patient_ids_final)\n",
        "val_patients = set(validation_patient_ids)\n",
        "test_patients = set(test_patient_ids)\n",
        "\n",
        "overlap_train_val = train_patients.intersection(val_patients)\n",
        "overlap_train_test = train_patients.intersection(test_patients)\n",
        "overlap_val_test = val_patients.intersection(test_patients)\n",
        "\n",
        "if overlap_train_val or overlap_train_test or overlap_val_test:\n",
        "    print(\"Data leakage detected. Patient overlap between sets.\")\n",
        "else:\n",
        "    print(\"No data leakage. Sets are mutually exclusive.\")\n",
        "\n",
        "# Checking data shapes\n",
        "print(\"Training set shape:\", X_train.shape)\n",
        "print(\"Validation set shape:\", X_val.shape)\n",
        "print(\"Test set shape:\", X_test.shape)\n"
      ]
    },
    {
      "cell_type": "code",
      "execution_count": 17,
      "metadata": {
        "colab": {
          "base_uri": "https://localhost:8080/"
        },
        "id": "WU2vUEHUaOXM",
        "outputId": "d77120f9-761e-4403-b2c2-87a328e38e0d"
      },
      "outputs": [
        {
          "output_type": "execute_result",
          "data": {
            "text/plain": [
              "HierarchicalClassifier(\n",
              "  (patch_classifier): PatchClassifier(\n",
              "    (conv1): Conv2d(1, 32, kernel_size=(3, 3), stride=(1, 1))\n",
              "    (conv2): Conv2d(32, 64, kernel_size=(3, 3), stride=(1, 1))\n",
              "    (dropout): Dropout(p=0.25, inplace=False)\n",
              "    (fc1): Linear(in_features=57600, out_features=128, bias=True)\n",
              "    (fc2): Linear(in_features=128, out_features=2, bias=True)\n",
              "  )\n",
              ")"
            ]
          },
          "metadata": {},
          "execution_count": 17
        }
      ],
      "source": [
        "import torch.nn as nn\n",
        "import torch.nn.functional as F\n",
        "\n",
        "# Define a neural network for classifying individual patches\n",
        "class PatchClassifier(nn.Module):\n",
        "    def __init__(self):\n",
        "        super(PatchClassifier, self).__init__()\n",
        "\n",
        "        # Convolutional layers\n",
        "        self.conv1 = nn.Conv2d(1, 32, 3, 1)\n",
        "        self.conv2 = nn.Conv2d(32, 64, 3, 1)\n",
        "\n",
        "        # Dropout layer for regularization\n",
        "        self.dropout = nn.Dropout(0.25)\n",
        "\n",
        "        # Fully connected layers\n",
        "        self.fc1 = nn.Linear(64*30*30, 128)\n",
        "        self.fc2 = nn.Linear(128, 2)\n",
        "\n",
        "    def forward(self, x):\n",
        "        # Sequence of convolutional layers followed by ReLU activation and pooling\n",
        "        x = F.relu(self.conv1(x))\n",
        "        x = F.relu(self.conv2(x))\n",
        "        x = F.max_pool2d(x, 2)\n",
        "\n",
        "        # Flattening and passing through fully connected layers\n",
        "        x = torch.flatten(x, 1)\n",
        "        x = F.relu(self.fc1(x))\n",
        "        x = self.dropout(x)\n",
        "        x = self.fc2(x)\n",
        "        return x\n",
        "\n",
        "# Define a hierarchical classifier that aggregates predictions of multiple patches for a patient\n",
        "class HierarchicalClassifier(nn.Module):\n",
        "    def __init__(self, num_patches_per_patient=5):\n",
        "        super(HierarchicalClassifier, self).__init__()\n",
        "\n",
        "        # Number of patches per patient\n",
        "        self.num_patches_per_patient = num_patches_per_patient\n",
        "\n",
        "        # Instantiate the patch classifier\n",
        "        self.patch_classifier = PatchClassifier()\n",
        "\n",
        "    def forward(self, x):\n",
        "        # Reshape input to process individual patches\n",
        "        x = x.view(-1, 1, 64, 64)\n",
        "\n",
        "        # Get predictions for each patch\n",
        "        patch_predictions = self.patch_classifier(x)\n",
        "\n",
        "        # Convert predictions to probabilities\n",
        "        patch_probs = F.softmax(patch_predictions, dim=1)\n",
        "\n",
        "        # Extract positive class probabilities\n",
        "        positive_probs = patch_probs[:, 1]\n",
        "\n",
        "        # Reshape to get probabilities for each patch of a patient\n",
        "        positive_probs = positive_probs.view(-1, self.num_patches_per_patient)\n",
        "\n",
        "        # Aggregate patch probabilities for a patient\n",
        "        aggregated_prob = positive_probs.mean(dim=1)\n",
        "        return aggregated_prob\n",
        "\n",
        "# Instantiate the model and move it to GPU\n",
        "model = HierarchicalClassifier()\n",
        "device = torch.device(\"cuda\" if torch.cuda.is_available() else \"cpu\")\n",
        "model.to(device)\n"
      ]
    },
    {
      "cell_type": "code",
      "execution_count": 18,
      "metadata": {
        "id": "sxF0Fc79SWb0"
      },
      "outputs": [],
      "source": [
        "# Calculate the number of negative and positive samples in the training set\n",
        "negative_samples = (y_train == 0).sum()\n",
        "positive_samples = (y_train == 1).sum()\n",
        "total_samples = len(y_train)\n",
        "\n",
        "# Compute class weights for handling class imbalance\n",
        "weight_for_0 = total_samples / (2.0 * negative_samples)\n",
        "weight_for_1 = total_samples / (2.0 * positive_samples)\n",
        "\n",
        "# Convert the class weights to a tensor and move it to GPU\n",
        "weights = torch.tensor([weight_for_0, weight_for_1], dtype=torch.float32)\n",
        "weights = weights.to(device)\n",
        "\n",
        "# Define the loss function using the computed class weights\n",
        "criterion = nn.CrossEntropyLoss(weight=weights)\n",
        "\n",
        "# Define the optimizer for training the model\n",
        "optimizer = torch.optim.Adam(model.parameters(), lr=0.0001)\n",
        "\n"
      ]
    },
    {
      "cell_type": "code",
      "execution_count": 19,
      "metadata": {
        "id": "yXpiSo7EcLb6"
      },
      "outputs": [],
      "source": [
        "train_dataset = TumorDataset(image_data_path, X_train)\n",
        "val_dataset = TumorDataset(image_data_path, X_val)\n",
        "test_dataset = TumorDataset(image_data_path, X_test)"
      ]
    },
    {
      "cell_type": "code",
      "execution_count": 20,
      "metadata": {
        "colab": {
          "base_uri": "https://localhost:8080/"
        },
        "id": "m5_D1JEpbTIY",
        "outputId": "a0f52ff4-e21f-4845-ad19-eba1cc7b2e85"
      },
      "outputs": [
        {
          "output_type": "stream",
          "name": "stderr",
          "text": [
            "/usr/local/lib/python3.10/dist-packages/torch/utils/data/dataloader.py:560: UserWarning: This DataLoader will create 4 worker processes in total. Our suggested max number of worker in current system is 2, which is smaller than what this DataLoader is going to create. Please be aware that excessive worker creation might get DataLoader running slow or even freeze, lower the worker number to avoid potential slowness/freeze if necessary.\n",
            "  warnings.warn(_create_warning_msg(\n"
          ]
        }
      ],
      "source": [
        "# Define the data loaders\n",
        "batch_size = 32\n",
        "train_loader = torch.utils.data.DataLoader(\n",
        "    dataset=train_dataset,\n",
        "    batch_size=batch_size,\n",
        "    shuffle=True,\n",
        "    num_workers=4,      # Number of subprocesses to use for data loading\n",
        "    pin_memory=True     # To speed up data transfer to the GPU\n",
        ")\n",
        "\n",
        "val_loader = torch.utils.data.DataLoader(\n",
        "    dataset=val_dataset,\n",
        "    batch_size=batch_size,\n",
        "    shuffle=False,\n",
        "    num_workers=4,\n",
        "    pin_memory=True\n",
        ")\n",
        "\n",
        "test_loader = torch.utils.data.DataLoader(\n",
        "    dataset=test_dataset,\n",
        "    batch_size=batch_size,\n",
        "    shuffle=False,\n",
        "    num_workers=4,\n",
        "    pin_memory=True\n",
        ")"
      ]
    },
    {
      "cell_type": "code",
      "execution_count": 21,
      "metadata": {
        "colab": {
          "base_uri": "https://localhost:8080/",
          "height": 1000
        },
        "id": "L4X493Q4jhhs",
        "outputId": "dfe18431-2111-432d-dbca-621314f08f20"
      },
      "outputs": [
        {
          "output_type": "stream",
          "name": "stderr",
          "text": [
            "/usr/local/lib/python3.10/dist-packages/torch/utils/data/dataloader.py:560: UserWarning: This DataLoader will create 4 worker processes in total. Our suggested max number of worker in current system is 2, which is smaller than what this DataLoader is going to create. Please be aware that excessive worker creation might get DataLoader running slow or even freeze, lower the worker number to avoid potential slowness/freeze if necessary.\n",
            "  warnings.warn(_create_warning_msg(\n"
          ]
        },
        {
          "output_type": "stream",
          "name": "stdout",
          "text": [
            "Epoch [1/10] - Training Loss: 0.7088, Training Accuracy: 0.3902, Training F1: 0.2424 - Validation Loss: 0.6986, Validation Accuracy: 0.8000, Validation F1: 0.0000\n"
          ]
        },
        {
          "output_type": "stream",
          "name": "stderr",
          "text": [
            "/usr/local/lib/python3.10/dist-packages/torch/utils/data/dataloader.py:560: UserWarning: This DataLoader will create 4 worker processes in total. Our suggested max number of worker in current system is 2, which is smaller than what this DataLoader is going to create. Please be aware that excessive worker creation might get DataLoader running slow or even freeze, lower the worker number to avoid potential slowness/freeze if necessary.\n",
            "  warnings.warn(_create_warning_msg(\n",
            "/usr/local/lib/python3.10/dist-packages/torch/utils/data/dataloader.py:560: UserWarning: This DataLoader will create 4 worker processes in total. Our suggested max number of worker in current system is 2, which is smaller than what this DataLoader is going to create. Please be aware that excessive worker creation might get DataLoader running slow or even freeze, lower the worker number to avoid potential slowness/freeze if necessary.\n",
            "  warnings.warn(_create_warning_msg(\n"
          ]
        },
        {
          "output_type": "stream",
          "name": "stdout",
          "text": [
            "Epoch [2/10] - Training Loss: 0.6868, Training Accuracy: 0.8049, Training F1: 0.0000 - Validation Loss: 0.7106, Validation Accuracy: 0.8000, Validation F1: 0.0000\n"
          ]
        },
        {
          "output_type": "stream",
          "name": "stderr",
          "text": [
            "/usr/local/lib/python3.10/dist-packages/torch/utils/data/dataloader.py:560: UserWarning: This DataLoader will create 4 worker processes in total. Our suggested max number of worker in current system is 2, which is smaller than what this DataLoader is going to create. Please be aware that excessive worker creation might get DataLoader running slow or even freeze, lower the worker number to avoid potential slowness/freeze if necessary.\n",
            "  warnings.warn(_create_warning_msg(\n",
            "/usr/local/lib/python3.10/dist-packages/torch/utils/data/dataloader.py:560: UserWarning: This DataLoader will create 4 worker processes in total. Our suggested max number of worker in current system is 2, which is smaller than what this DataLoader is going to create. Please be aware that excessive worker creation might get DataLoader running slow or even freeze, lower the worker number to avoid potential slowness/freeze if necessary.\n",
            "  warnings.warn(_create_warning_msg(\n"
          ]
        },
        {
          "output_type": "stream",
          "name": "stdout",
          "text": [
            "Epoch [3/10] - Training Loss: 0.7039, Training Accuracy: 0.8049, Training F1: 0.0000 - Validation Loss: 0.7077, Validation Accuracy: 0.8000, Validation F1: 0.0000\n"
          ]
        },
        {
          "output_type": "stream",
          "name": "stderr",
          "text": [
            "/usr/local/lib/python3.10/dist-packages/torch/utils/data/dataloader.py:560: UserWarning: This DataLoader will create 4 worker processes in total. Our suggested max number of worker in current system is 2, which is smaller than what this DataLoader is going to create. Please be aware that excessive worker creation might get DataLoader running slow or even freeze, lower the worker number to avoid potential slowness/freeze if necessary.\n",
            "  warnings.warn(_create_warning_msg(\n",
            "/usr/local/lib/python3.10/dist-packages/torch/utils/data/dataloader.py:560: UserWarning: This DataLoader will create 4 worker processes in total. Our suggested max number of worker in current system is 2, which is smaller than what this DataLoader is going to create. Please be aware that excessive worker creation might get DataLoader running slow or even freeze, lower the worker number to avoid potential slowness/freeze if necessary.\n",
            "  warnings.warn(_create_warning_msg(\n"
          ]
        },
        {
          "output_type": "stream",
          "name": "stdout",
          "text": [
            "Epoch [4/10] - Training Loss: 0.6929, Training Accuracy: 0.8049, Training F1: 0.0000 - Validation Loss: 0.6909, Validation Accuracy: 0.8000, Validation F1: 0.0000\n"
          ]
        },
        {
          "output_type": "stream",
          "name": "stderr",
          "text": [
            "/usr/local/lib/python3.10/dist-packages/torch/utils/data/dataloader.py:560: UserWarning: This DataLoader will create 4 worker processes in total. Our suggested max number of worker in current system is 2, which is smaller than what this DataLoader is going to create. Please be aware that excessive worker creation might get DataLoader running slow or even freeze, lower the worker number to avoid potential slowness/freeze if necessary.\n",
            "  warnings.warn(_create_warning_msg(\n",
            "/usr/local/lib/python3.10/dist-packages/torch/utils/data/dataloader.py:560: UserWarning: This DataLoader will create 4 worker processes in total. Our suggested max number of worker in current system is 2, which is smaller than what this DataLoader is going to create. Please be aware that excessive worker creation might get DataLoader running slow or even freeze, lower the worker number to avoid potential slowness/freeze if necessary.\n",
            "  warnings.warn(_create_warning_msg(\n"
          ]
        },
        {
          "output_type": "stream",
          "name": "stdout",
          "text": [
            "Epoch [5/10] - Training Loss: 0.6957, Training Accuracy: 0.7561, Training F1: 0.0000 - Validation Loss: 0.6988, Validation Accuracy: 0.8000, Validation F1: 0.0000\n"
          ]
        },
        {
          "output_type": "stream",
          "name": "stderr",
          "text": [
            "/usr/local/lib/python3.10/dist-packages/torch/utils/data/dataloader.py:560: UserWarning: This DataLoader will create 4 worker processes in total. Our suggested max number of worker in current system is 2, which is smaller than what this DataLoader is going to create. Please be aware that excessive worker creation might get DataLoader running slow or even freeze, lower the worker number to avoid potential slowness/freeze if necessary.\n",
            "  warnings.warn(_create_warning_msg(\n",
            "/usr/local/lib/python3.10/dist-packages/torch/utils/data/dataloader.py:560: UserWarning: This DataLoader will create 4 worker processes in total. Our suggested max number of worker in current system is 2, which is smaller than what this DataLoader is going to create. Please be aware that excessive worker creation might get DataLoader running slow or even freeze, lower the worker number to avoid potential slowness/freeze if necessary.\n",
            "  warnings.warn(_create_warning_msg(\n"
          ]
        },
        {
          "output_type": "stream",
          "name": "stdout",
          "text": [
            "Epoch [6/10] - Training Loss: 0.6894, Training Accuracy: 0.6341, Training F1: 0.3182 - Validation Loss: 0.6956, Validation Accuracy: 0.4000, Validation F1: 0.2500\n"
          ]
        },
        {
          "output_type": "stream",
          "name": "stderr",
          "text": [
            "/usr/local/lib/python3.10/dist-packages/torch/utils/data/dataloader.py:560: UserWarning: This DataLoader will create 4 worker processes in total. Our suggested max number of worker in current system is 2, which is smaller than what this DataLoader is going to create. Please be aware that excessive worker creation might get DataLoader running slow or even freeze, lower the worker number to avoid potential slowness/freeze if necessary.\n",
            "  warnings.warn(_create_warning_msg(\n",
            "/usr/local/lib/python3.10/dist-packages/torch/utils/data/dataloader.py:560: UserWarning: This DataLoader will create 4 worker processes in total. Our suggested max number of worker in current system is 2, which is smaller than what this DataLoader is going to create. Please be aware that excessive worker creation might get DataLoader running slow or even freeze, lower the worker number to avoid potential slowness/freeze if necessary.\n",
            "  warnings.warn(_create_warning_msg(\n"
          ]
        },
        {
          "output_type": "stream",
          "name": "stdout",
          "text": [
            "Epoch [7/10] - Training Loss: 0.6856, Training Accuracy: 0.4634, Training F1: 0.2903 - Validation Loss: 0.6909, Validation Accuracy: 0.6000, Validation F1: 0.3333\n"
          ]
        },
        {
          "output_type": "stream",
          "name": "stderr",
          "text": [
            "/usr/local/lib/python3.10/dist-packages/torch/utils/data/dataloader.py:560: UserWarning: This DataLoader will create 4 worker processes in total. Our suggested max number of worker in current system is 2, which is smaller than what this DataLoader is going to create. Please be aware that excessive worker creation might get DataLoader running slow or even freeze, lower the worker number to avoid potential slowness/freeze if necessary.\n",
            "  warnings.warn(_create_warning_msg(\n",
            "/usr/local/lib/python3.10/dist-packages/torch/utils/data/dataloader.py:560: UserWarning: This DataLoader will create 4 worker processes in total. Our suggested max number of worker in current system is 2, which is smaller than what this DataLoader is going to create. Please be aware that excessive worker creation might get DataLoader running slow or even freeze, lower the worker number to avoid potential slowness/freeze if necessary.\n",
            "  warnings.warn(_create_warning_msg(\n"
          ]
        },
        {
          "output_type": "stream",
          "name": "stdout",
          "text": [
            "Epoch [8/10] - Training Loss: 0.6845, Training Accuracy: 0.5854, Training F1: 0.3704 - Validation Loss: 0.6896, Validation Accuracy: 0.4000, Validation F1: 0.2500\n"
          ]
        },
        {
          "output_type": "stream",
          "name": "stderr",
          "text": [
            "/usr/local/lib/python3.10/dist-packages/torch/utils/data/dataloader.py:560: UserWarning: This DataLoader will create 4 worker processes in total. Our suggested max number of worker in current system is 2, which is smaller than what this DataLoader is going to create. Please be aware that excessive worker creation might get DataLoader running slow or even freeze, lower the worker number to avoid potential slowness/freeze if necessary.\n",
            "  warnings.warn(_create_warning_msg(\n",
            "/usr/local/lib/python3.10/dist-packages/torch/utils/data/dataloader.py:560: UserWarning: This DataLoader will create 4 worker processes in total. Our suggested max number of worker in current system is 2, which is smaller than what this DataLoader is going to create. Please be aware that excessive worker creation might get DataLoader running slow or even freeze, lower the worker number to avoid potential slowness/freeze if necessary.\n",
            "  warnings.warn(_create_warning_msg(\n"
          ]
        },
        {
          "output_type": "stream",
          "name": "stdout",
          "text": [
            "Epoch [9/10] - Training Loss: 0.6765, Training Accuracy: 0.5976, Training F1: 0.4211 - Validation Loss: 0.6950, Validation Accuracy: 0.6000, Validation F1: 0.3333\n"
          ]
        },
        {
          "output_type": "stream",
          "name": "stderr",
          "text": [
            "/usr/local/lib/python3.10/dist-packages/torch/utils/data/dataloader.py:560: UserWarning: This DataLoader will create 4 worker processes in total. Our suggested max number of worker in current system is 2, which is smaller than what this DataLoader is going to create. Please be aware that excessive worker creation might get DataLoader running slow or even freeze, lower the worker number to avoid potential slowness/freeze if necessary.\n",
            "  warnings.warn(_create_warning_msg(\n",
            "/usr/local/lib/python3.10/dist-packages/torch/utils/data/dataloader.py:560: UserWarning: This DataLoader will create 4 worker processes in total. Our suggested max number of worker in current system is 2, which is smaller than what this DataLoader is going to create. Please be aware that excessive worker creation might get DataLoader running slow or even freeze, lower the worker number to avoid potential slowness/freeze if necessary.\n",
            "  warnings.warn(_create_warning_msg(\n"
          ]
        },
        {
          "output_type": "stream",
          "name": "stdout",
          "text": [
            "Epoch [10/10] - Training Loss: 0.6790, Training Accuracy: 0.6341, Training F1: 0.4000 - Validation Loss: 0.6951, Validation Accuracy: 0.9000, Validation F1: 0.6667\n"
          ]
        },
        {
          "output_type": "display_data",
          "data": {
            "text/plain": [
              "<Figure size 1200x400 with 3 Axes>"
            ],
            "image/png": "[encoded data removed]"
          },
          "metadata": {}
        }
      ],
      "source": [
        "\n",
        "# Set random seed for reproducibility\n",
        "torch.manual_seed(50)\n",
        "\n",
        "# Hyperparameters and setup for training loop\n",
        "num_epochs = 10\n",
        "print_every = 1\n",
        "patience = 3\n",
        "best_val_loss = float('inf')\n",
        "epochs_no_improve = 0\n",
        "\n",
        "# Lists to store training and validation metrics for each epoch\n",
        "train_losses = []\n",
        "val_losses = []\n",
        "train_accuracies = []\n",
        "val_accuracies = []\n",
        "train_f1_scores = []\n",
        "val_f1_scores = []\n",
        "\n",
        "for epoch in range(1, num_epochs + 1):\n",
        "    # Training Phase\n",
        "    model.train()\n",
        "    running_loss = 0.0\n",
        "    correct_train = 0\n",
        "    total_train = 0\n",
        "    all_train_labels = []\n",
        "    all_train_preds = []\n",
        "\n",
        "    for i, (inputs, labels) in enumerate(train_loader):\n",
        "        inputs, labels = inputs.to(device), labels.to(device)\n",
        "\n",
        "        # Forward and backward passes\n",
        "        optimizer.zero_grad()\n",
        "        outputs = model(inputs)\n",
        "\n",
        "        # Convert model's output to match the shape required for CrossEntropyLoss\n",
        "        outputs_2d = outputs.unsqueeze(1)\n",
        "        labels_2d = labels.view(-1, 1)\n",
        "        combined_outputs = torch.cat((1 - outputs_2d, outputs_2d), dim=1)\n",
        "        _, preds = torch.max(combined_outputs, 1)\n",
        "\n",
        "        # Compute training statistics\n",
        "        correct_train += (preds == labels).sum().item()\n",
        "        total_train += labels.size(0)\n",
        "        all_train_labels.extend(labels.cpu().numpy())\n",
        "        all_train_preds.extend(preds.cpu().numpy())\n",
        "        loss = criterion(combined_outputs, labels_2d.squeeze())\n",
        "        loss.backward()\n",
        "        optimizer.step()\n",
        "        running_loss += loss.item()\n",
        "\n",
        "    # Calculate metrics for training data\n",
        "    epoch_loss = running_loss / len(train_loader)\n",
        "    train_losses.append(epoch_loss)\n",
        "    train_accuracy = correct_train / total_train\n",
        "    train_accuracies.append(train_accuracy)\n",
        "    train_f1 = f1_score(all_train_labels, all_train_preds)\n",
        "    train_f1_scores.append(train_f1)\n",
        "\n",
        "    # Validation Phase\n",
        "    model.eval()\n",
        "\n",
        "    # Initialize variables to store validation metrics\n",
        "    val_running_loss = 0.0\n",
        "    correct_val = 0\n",
        "    total_val = 0\n",
        "    all_val_labels = []\n",
        "    all_val_preds = []\n",
        "\n",
        "    # No gradient computations during validation for performance\n",
        "    with torch.no_grad():\n",
        "        for inputs, labels in val_loader:\n",
        "            inputs, labels = inputs.to(device), labels.to(device)\n",
        "\n",
        "            # Forward pass\n",
        "            outputs = model(inputs)\n",
        "\n",
        "            # Convert the outputs to 2D for calculating loss\n",
        "            outputs_2d = outputs.unsqueeze(1)\n",
        "            labels_2d = labels.view(-1, 1)\n",
        "            combined_outputs = torch.cat((1 - outputs_2d, outputs_2d), dim=1)\n",
        "\n",
        "            # Get predicted class and accumulate correct predictions\n",
        "            _, preds = torch.max(combined_outputs, 1)\n",
        "            correct_val += (preds == labels).sum().item()\n",
        "            total_val += labels.size(0)\n",
        "\n",
        "            all_val_labels.extend(labels.cpu().numpy())\n",
        "            all_val_preds.extend(preds.cpu().numpy())\n",
        "\n",
        "            loss = criterion(combined_outputs, labels_2d.squeeze())\n",
        "            val_running_loss += loss.item()\n",
        "\n",
        "    # Calculate average validation loss for the epoch\n",
        "    val_epoch_loss = val_running_loss / len(val_loader)\n",
        "    val_losses.append(val_epoch_loss)\n",
        "\n",
        "    # Calculate validation accuracy and F1 score\n",
        "    val_accuracy = correct_val / total_val\n",
        "    val_accuracies.append(val_accuracy)\n",
        "    val_f1 = f1_score(all_val_labels, all_val_preds)\n",
        "    val_f1_scores.append(val_f1)\n",
        "\n",
        "    if epoch % print_every == 0:\n",
        "        print(f\"Epoch [{epoch}/{num_epochs}] - Training Loss: {epoch_loss:.4f}, Training Accuracy: {train_accuracy:.4f}, Training F1: {train_f1:.4f} - Validation Loss: {val_epoch_loss:.4f}, Validation Accuracy: {val_accuracy:.4f}, Validation F1: {val_f1:.4f}\")\n",
        "\n",
        "    # Early stopping logic\n",
        "    if val_epoch_loss < best_val_loss:\n",
        "        best_val_loss = val_epoch_loss\n",
        "        epochs_no_improve = 0\n",
        "    else:\n",
        "        epochs_no_improve += 1\n",
        "        if epochs_no_improve == patience:\n",
        "            print(f\"Early stopping! Best Validation Loss: {best_val_loss:.4f}\")\n",
        "            break\n",
        "\n",
        "plt.figure(figsize=(12, 4))\n",
        "\n",
        "# Plotting loss\n",
        "plt.subplot(1, 3, 1)\n",
        "plt.plot(train_losses, label='Training Loss')\n",
        "plt.plot(val_losses, label='Validation Loss')\n",
        "plt.xlabel('Epochs')\n",
        "plt.ylabel('Loss')\n",
        "plt.title('Loss Curves')\n",
        "plt.legend()\n",
        "\n",
        "# Plotting accuracy\n",
        "plt.subplot(1, 3, 2)\n",
        "plt.plot(train_accuracies, label='Training Accuracy')\n",
        "plt.plot(val_accuracies, label='Validation Accuracy')\n",
        "plt.xlabel('Epochs')\n",
        "plt.ylabel('Accuracy')\n",
        "plt.title('Accuracy Curves')\n",
        "plt.legend()\n",
        "\n",
        "# Plotting F1 score\n",
        "plt.subplot(1, 3, 3)\n",
        "plt.plot(train_f1_scores, label='Training F1')\n",
        "plt.plot(val_f1_scores, label='Validation F1')\n",
        "plt.xlabel('Epochs')\n",
        "plt.ylabel('F1 Score')\n",
        "plt.title('F1 Score Curves')\n",
        "plt.legend()\n",
        "\n",
        "plt.tight_layout()\n",
        "plt.show()\n"
      ]
    },
    {
      "cell_type": "code",
      "execution_count": 22,
      "metadata": {
        "colab": {
          "base_uri": "https://localhost:8080/"
        },
        "id": "4gNR7chljn41",
        "outputId": "db0bb7e1-39f9-47f0-fe1a-3f4f9be102d6"
      },
      "outputs": [
        {
          "output_type": "stream",
          "name": "stderr",
          "text": [
            "/usr/local/lib/python3.10/dist-packages/torch/utils/data/dataloader.py:560: UserWarning: This DataLoader will create 4 worker processes in total. Our suggested max number of worker in current system is 2, which is smaller than what this DataLoader is going to create. Please be aware that excessive worker creation might get DataLoader running slow or even freeze, lower the worker number to avoid potential slowness/freeze if necessary.\n",
            "  warnings.warn(_create_warning_msg(\n"
          ]
        }
      ],
      "source": [
        "# Model evaluation\n",
        "model.eval()\n",
        "\n",
        "test_running_loss = 0.0\n",
        "correct_test = 0\n",
        "total_test = 0\n",
        "all_test_labels = []\n",
        "all_test_preds = []\n",
        "\n",
        "with torch.no_grad():\n",
        "    for inputs, labels in test_loader:\n",
        "        inputs, labels = inputs.to(device), labels.to(device)\n",
        "\n",
        "        outputs = model(inputs)\n",
        "\n",
        "        # Adjust for binary classification\n",
        "        outputs_2d = outputs.unsqueeze(1)\n",
        "        labels_2d = labels.view(-1, 1)\n",
        "        combined_outputs = torch.cat((1 - outputs_2d, outputs_2d), dim=1)\n",
        "\n",
        "        _, preds = torch.max(combined_outputs, 1)\n",
        "        correct_test += (preds == labels).sum().item()\n",
        "        total_test += labels.size(0)\n",
        "\n",
        "        all_test_labels.extend(labels.cpu().numpy())\n",
        "        all_test_preds.extend(preds.cpu().numpy())\n",
        "\n",
        "        loss = criterion(combined_outputs, labels_2d.squeeze())\n",
        "        test_running_loss += loss.item()\n",
        "\n",
        "test_epoch_loss = test_running_loss / len(test_loader)\n",
        "test_accuracy = correct_test / total_test\n",
        "test_f1 = f1_score(all_test_labels, all_test_preds)"
      ]
    },
    {
      "cell_type": "code",
      "execution_count": 23,
      "metadata": {
        "colab": {
          "base_uri": "https://localhost:8080/"
        },
        "id": "fkpmAIffS2yE",
        "outputId": "5809e6c3-1b33-493c-cbfc-40b9c85e0921"
      },
      "outputs": [
        {
          "output_type": "stream",
          "name": "stdout",
          "text": [
            "Test Loss: 0.6759, Test Accuracy: 0.7917, Test F1 Score: 0.2857\n"
          ]
        }
      ],
      "source": [
        "print(f\"Test Loss: {test_epoch_loss:.4f}, Test Accuracy: {test_accuracy:.4f}, Test F1 Score: {test_f1:.4f}\")"
      ]
    },
    {
      "cell_type": "code",
      "execution_count": 23,
      "metadata": {
        "id": "LAzLGxRayTsA"
      },
      "outputs": [],
      "source": []
    }
  ],
  "metadata": {
    "accelerator": "GPU",
    "colab": {
      "provenance": []
    },
    "kernelspec": {
      "display_name": "Python 3",
      "name": "python3"
    },
    "language_info": {
      "name": "python"
    }
  },
  "nbformat": 4,
  "nbformat_minor": 0
}